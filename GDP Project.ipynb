{
 "cells": [
  {
   "cell_type": "code",
   "execution_count": 3,
   "id": "8ba9dcee-6b10-4f61-b7b2-8b4c3ba40c8e",
   "metadata": {},
   "outputs": [],
   "source": [
    "import pandas as pd\n",
    "import matplotlib.pyplot as plt\n",
    "import seaborn as sns\n",
    "import plotly.express as px\n",
    "import plotly.offline as pyo\n",
    "import os"
   ]
  },
  {
   "cell_type": "code",
   "execution_count": 4,
   "id": "b11d57ec-ecf5-4736-8d2f-8292992dd0d4",
   "metadata": {},
   "outputs": [
    {
     "data": {
      "text/html": [
       "<div>\n",
       "<style scoped>\n",
       "    .dataframe tbody tr th:only-of-type {\n",
       "        vertical-align: middle;\n",
       "    }\n",
       "\n",
       "    .dataframe tbody tr th {\n",
       "        vertical-align: top;\n",
       "    }\n",
       "\n",
       "    .dataframe thead th {\n",
       "        text-align: right;\n",
       "    }\n",
       "</style>\n",
       "<table border=\"1\" class=\"dataframe\">\n",
       "  <thead>\n",
       "    <tr style=\"text-align: right;\">\n",
       "      <th></th>\n",
       "      <th>Country Name</th>\n",
       "      <th>Country Code</th>\n",
       "      <th>Year</th>\n",
       "      <th>Value</th>\n",
       "    </tr>\n",
       "  </thead>\n",
       "  <tbody>\n",
       "    <tr>\n",
       "      <th>0</th>\n",
       "      <td>Arab World</td>\n",
       "      <td>ARB</td>\n",
       "      <td>1968</td>\n",
       "      <td>2.576068e+10</td>\n",
       "    </tr>\n",
       "    <tr>\n",
       "      <th>1</th>\n",
       "      <td>Arab World</td>\n",
       "      <td>ARB</td>\n",
       "      <td>1969</td>\n",
       "      <td>2.843420e+10</td>\n",
       "    </tr>\n",
       "    <tr>\n",
       "      <th>2</th>\n",
       "      <td>Arab World</td>\n",
       "      <td>ARB</td>\n",
       "      <td>1970</td>\n",
       "      <td>3.138550e+10</td>\n",
       "    </tr>\n",
       "    <tr>\n",
       "      <th>3</th>\n",
       "      <td>Arab World</td>\n",
       "      <td>ARB</td>\n",
       "      <td>1971</td>\n",
       "      <td>3.642691e+10</td>\n",
       "    </tr>\n",
       "    <tr>\n",
       "      <th>4</th>\n",
       "      <td>Arab World</td>\n",
       "      <td>ARB</td>\n",
       "      <td>1972</td>\n",
       "      <td>4.331606e+10</td>\n",
       "    </tr>\n",
       "  </tbody>\n",
       "</table>\n",
       "</div>"
      ],
      "text/plain": [
       "  Country Name Country Code  Year         Value\n",
       "0   Arab World          ARB  1968  2.576068e+10\n",
       "1   Arab World          ARB  1969  2.843420e+10\n",
       "2   Arab World          ARB  1970  3.138550e+10\n",
       "3   Arab World          ARB  1971  3.642691e+10\n",
       "4   Arab World          ARB  1972  4.331606e+10"
      ]
     },
     "execution_count": 4,
     "metadata": {},
     "output_type": "execute_result"
    }
   ],
   "source": [
    "df=pd.read_csv('https://raw.githubusercontent.com/AshishJangra27/Data-Analysis-with-Python-GFG/main/27.%20GDP%20Analysis%20-%20Assignment/gdp.csv')\n",
    "df.head()"
   ]
  },
  {
   "cell_type": "code",
   "execution_count": 3,
   "id": "47276862-0e72-45ba-8a44-3614e57f086e",
   "metadata": {},
   "outputs": [
    {
     "data": {
      "text/plain": [
       "count                    11507\n",
       "unique                     256\n",
       "top       Hong Kong SAR, China\n",
       "freq                        57\n",
       "Name: Country Name, dtype: object"
      ]
     },
     "execution_count": 3,
     "metadata": {},
     "output_type": "execute_result"
    }
   ],
   "source": [
    "df['Country Name'].describe()"
   ]
  },
  {
   "cell_type": "code",
   "execution_count": 4,
   "id": "0343e7a0-c8b1-4187-80c3-730bacb76016",
   "metadata": {},
   "outputs": [
    {
     "data": {
      "text/plain": [
       "256"
      ]
     },
     "execution_count": 4,
     "metadata": {},
     "output_type": "execute_result"
    }
   ],
   "source": [
    "df['Country Name'].nunique()"
   ]
  },
  {
   "cell_type": "code",
   "execution_count": 5,
   "id": "2654a900-a516-461e-b886-7b9dea7db98c",
   "metadata": {},
   "outputs": [
    {
     "name": "stdout",
     "output_type": "stream",
     "text": [
      "57\n"
     ]
    }
   ],
   "source": [
    "c=0\n",
    "for i in df['Country Name']:\n",
    "    if i=='India':\n",
    "        c+=1\n",
    "print(c)"
   ]
  },
  {
   "cell_type": "code",
   "execution_count": 6,
   "id": "c009de1a-97ba-4771-a90f-bb3de547e815",
   "metadata": {},
   "outputs": [
    {
     "data": {
      "text/plain": [
       "2258    2.690798e+12\n",
       "Name: Value, dtype: float64"
      ]
     },
     "execution_count": 6,
     "metadata": {},
     "output_type": "execute_result"
    }
   ],
   "source": [
    "df_pr=df[df['Country Name']=='World' ]\n",
    "df_pr=df_pr[df_pr['Year']==1969]\n",
    "df_pr['Value']"
   ]
  },
  {
   "cell_type": "code",
   "execution_count": 7,
   "id": "7691c019-b7e8-44e0-a66d-e9dcc27f6b28",
   "metadata": {},
   "outputs": [
    {
     "data": {
      "text/plain": [
       "<Axes: xlabel='Year'>"
      ]
     },
     "execution_count": 7,
     "metadata": {},
     "output_type": "execute_result"
    },
    {
     "data": {
      "image/png": "[encoded data removed]",
      "text/plain": [
       "<Figure size 640x480 with 1 Axes>"
      ]
     },
     "metadata": {},
     "output_type": "display_data"
    }
   ],
   "source": [
    "df_pr=df[df['Country Name']=='World' ]\n",
    "df_pr.plot(x='Year',y='Value',grid=True)"
   ]
  },
  {
   "cell_type": "code",
   "execution_count": 8,
   "id": "78316916-f9a0-4c0d-bc1f-7441f41e5e9a",
   "metadata": {
    "scrolled": true
   },
   "outputs": [
    {
     "name": "stdout",
     "output_type": "stream",
     "text": [
      "8.32\n"
     ]
    }
   ],
   "source": [
    "df_pr=df[df['Country Name']=='India' ]\n",
    "GDP_PREV=df_pr[df_pr['Year']==2015].iloc[0,3]\n",
    "GDP_CURR=df_pr[df_pr['Year']==2016].iloc[0,3]\n",
    "GDP_GROWTH=round((GDP_CURR-GDP_PREV)*100/GDP_PREV,2)\n",
    "print(GDP_GROWTH)"
   ]
  },
  {
   "cell_type": "code",
   "execution_count": 9,
   "id": "6045af76-ab0d-4c69-836f-bf9190d9181c",
   "metadata": {},
   "outputs": [
    {
     "data": {
      "text/plain": [
       "275570363432.31"
      ]
     },
     "execution_count": 9,
     "metadata": {},
     "output_type": "execute_result"
    }
   ],
   "source": [
    "df_pr[df_pr['Year']==1993].iloc[0,3]"
   ]
  },
  {
   "cell_type": "code",
   "execution_count": 10,
   "id": "10093e8b-aceb-4838-bc92-3074e26e4ad5",
   "metadata": {},
   "outputs": [
    {
     "name": "stdout",
     "output_type": "stream",
     "text": [
      "[0, 5.95, 7.47, 14.85, 16.64, 5.44, -22.99, 9.31, 5.89, 10.1, 6.8, 7.9, 6.11, 19.66, 16.38, -1.06, 4.31, 18.27, 13.02, 11.43, 21.79, 3.85, 3.73, 8.74, -2.8, 9.59, 7.09, 12.07, 6.29, -0.18, 8.42, -15.85, 6.7, -3.09, 17.18, 10.09, 9.05, 5.85, 1.32, 8.89, 2.09, 3.64, 6.08, 18.01, 16.69, 15.61, 13.77, 30.51, -1.18, 11.54, 25.13, 10.05, 0.25, 1.59, 9.62, 2.68, 8.32]\n"
     ]
    }
   ],
   "source": [
    "lst=list(df_pr['Year'].index)\n",
    "gdp=[0]\n",
    "for i in list(df_pr.iloc[:,2]):\n",
    "    if(i==1960):\n",
    "        continue\n",
    "    GDP_PREV=df_pr[df_pr['Year']==i-1].iloc[0,3]\n",
    "    GDP_CURR=df_pr[df_pr['Year']==i].iloc[0,3]\n",
    "    GDP_GROWTH=round((GDP_CURR-GDP_PREV)*100/GDP_PREV,2)\n",
    "    gdp.append(GDP_GROWTH)\n",
    "print(gdp)"
   ]
  },
  {
   "cell_type": "code",
   "execution_count": 11,
   "id": "5f447347-22c8-4442-9765-bf2341301776",
   "metadata": {},
   "outputs": [
    {
     "data": {
      "text/plain": [
       "[<matplotlib.lines.Line2D at 0x24b7bcc8bd0>]"
      ]
     },
     "execution_count": 11,
     "metadata": {},
     "output_type": "execute_result"
    },
    {
     "data": {
      "image/png": "[encoded data removed]",
      "text/plain": [
       "<Figure size 640x480 with 1 Axes>"
      ]
     },
     "metadata": {},
     "output_type": "display_data"
    }
   ],
   "source": [
    "plt.plot(df_pr.iloc[:,2],gdp)"
   ]
  },
  {
   "cell_type": "code",
   "execution_count": 13,
   "id": "baa62d2a-b475-4928-8e87-128be9765970",
   "metadata": {},
   "outputs": [
    {
     "data": {
      "text/html": [
       "<div>\n",
       "<style scoped>\n",
       "    .dataframe tbody tr th:only-of-type {\n",
       "        vertical-align: middle;\n",
       "    }\n",
       "\n",
       "    .dataframe tbody tr th {\n",
       "        vertical-align: top;\n",
       "    }\n",
       "\n",
       "    .dataframe thead th {\n",
       "        text-align: right;\n",
       "    }\n",
       "</style>\n",
       "<table border=\"1\" class=\"dataframe\">\n",
       "  <thead>\n",
       "    <tr style=\"text-align: right;\">\n",
       "      <th></th>\n",
       "      <th>Year</th>\n",
       "      <th>Value</th>\n",
       "    </tr>\n",
       "  </thead>\n",
       "  <tbody>\n",
       "    <tr>\n",
       "      <th>6075</th>\n",
       "      <td>1961</td>\n",
       "      <td>3.870910e+10</td>\n",
       "    </tr>\n",
       "    <tr>\n",
       "      <th>6076</th>\n",
       "      <td>1962</td>\n",
       "      <td>4.159907e+10</td>\n",
       "    </tr>\n",
       "    <tr>\n",
       "      <th>6077</th>\n",
       "      <td>1963</td>\n",
       "      <td>4.777600e+10</td>\n",
       "    </tr>\n",
       "    <tr>\n",
       "      <th>6078</th>\n",
       "      <td>1964</td>\n",
       "      <td>5.572687e+10</td>\n",
       "    </tr>\n",
       "    <tr>\n",
       "      <th>6079</th>\n",
       "      <td>1965</td>\n",
       "      <td>5.876042e+10</td>\n",
       "    </tr>\n",
       "  </tbody>\n",
       "</table>\n",
       "</div>"
      ],
      "text/plain": [
       "      Year         Value\n",
       "6075  1961  3.870910e+10\n",
       "6076  1962  4.159907e+10\n",
       "6077  1963  4.777600e+10\n",
       "6078  1964  5.572687e+10\n",
       "6079  1965  5.876042e+10"
      ]
     },
     "execution_count": 13,
     "metadata": {},
     "output_type": "execute_result"
    }
   ],
   "source": [
    "df_pr.iloc[1:,2:].head()"
   ]
  },
  {
   "cell_type": "code",
   "execution_count": 14,
   "id": "555b8385-f294-419a-aa26-b8484df54192",
   "metadata": {
    "scrolled": true
   },
   "outputs": [
    {
     "data": {
      "text/html": [
       "<div>\n",
       "<style scoped>\n",
       "    .dataframe tbody tr th:only-of-type {\n",
       "        vertical-align: middle;\n",
       "    }\n",
       "\n",
       "    .dataframe tbody tr th {\n",
       "        vertical-align: top;\n",
       "    }\n",
       "\n",
       "    .dataframe thead th {\n",
       "        text-align: right;\n",
       "    }\n",
       "</style>\n",
       "<table border=\"1\" class=\"dataframe\">\n",
       "  <thead>\n",
       "    <tr style=\"text-align: right;\">\n",
       "      <th></th>\n",
       "      <th>Country Name</th>\n",
       "      <th>Country Code</th>\n",
       "      <th>Year</th>\n",
       "      <th>Value</th>\n",
       "    </tr>\n",
       "  </thead>\n",
       "  <tbody>\n",
       "    <tr>\n",
       "      <th>6074</th>\n",
       "      <td>India</td>\n",
       "      <td>IND</td>\n",
       "      <td>1960</td>\n",
       "      <td>3.653593e+10</td>\n",
       "    </tr>\n",
       "    <tr>\n",
       "      <th>6075</th>\n",
       "      <td>India</td>\n",
       "      <td>IND</td>\n",
       "      <td>1961</td>\n",
       "      <td>3.870910e+10</td>\n",
       "    </tr>\n",
       "    <tr>\n",
       "      <th>6076</th>\n",
       "      <td>India</td>\n",
       "      <td>IND</td>\n",
       "      <td>1962</td>\n",
       "      <td>4.159907e+10</td>\n",
       "    </tr>\n",
       "    <tr>\n",
       "      <th>6077</th>\n",
       "      <td>India</td>\n",
       "      <td>IND</td>\n",
       "      <td>1963</td>\n",
       "      <td>4.777600e+10</td>\n",
       "    </tr>\n",
       "    <tr>\n",
       "      <th>6078</th>\n",
       "      <td>India</td>\n",
       "      <td>IND</td>\n",
       "      <td>1964</td>\n",
       "      <td>5.572687e+10</td>\n",
       "    </tr>\n",
       "  </tbody>\n",
       "</table>\n",
       "</div>"
      ],
      "text/plain": [
       "     Country Name Country Code  Year         Value\n",
       "6074        India          IND  1960  3.653593e+10\n",
       "6075        India          IND  1961  3.870910e+10\n",
       "6076        India          IND  1962  4.159907e+10\n",
       "6077        India          IND  1963  4.777600e+10\n",
       "6078        India          IND  1964  5.572687e+10"
      ]
     },
     "execution_count": 14,
     "metadata": {},
     "output_type": "execute_result"
    }
   ],
   "source": [
    "df_pr.assign(GDP=gdp)\n",
    "df_pr.head()"
   ]
  },
  {
   "cell_type": "code",
   "execution_count": 22,
   "id": "67f035ea-5dd4-41e2-b81d-918f85f64bdd",
   "metadata": {},
   "outputs": [
    {
     "data": {
      "text/html": [
       "<div>\n",
       "<style scoped>\n",
       "    .dataframe tbody tr th:only-of-type {\n",
       "        vertical-align: middle;\n",
       "    }\n",
       "\n",
       "    .dataframe tbody tr th {\n",
       "        vertical-align: top;\n",
       "    }\n",
       "\n",
       "    .dataframe thead th {\n",
       "        text-align: right;\n",
       "    }\n",
       "</style>\n",
       "<table border=\"1\" class=\"dataframe\">\n",
       "  <thead>\n",
       "    <tr style=\"text-align: right;\">\n",
       "      <th></th>\n",
       "      <th>Country Name</th>\n",
       "      <th>Country Code</th>\n",
       "      <th>Year</th>\n",
       "      <th>Value</th>\n",
       "      <th>GDP_growth</th>\n",
       "    </tr>\n",
       "  </thead>\n",
       "  <tbody>\n",
       "    <tr>\n",
       "      <th>0</th>\n",
       "      <td>Arab World</td>\n",
       "      <td>ARB</td>\n",
       "      <td>1968</td>\n",
       "      <td>2.576068e+10</td>\n",
       "      <td>0.00</td>\n",
       "    </tr>\n",
       "    <tr>\n",
       "      <th>1</th>\n",
       "      <td>Arab World</td>\n",
       "      <td>ARB</td>\n",
       "      <td>1969</td>\n",
       "      <td>2.843420e+10</td>\n",
       "      <td>10.38</td>\n",
       "    </tr>\n",
       "    <tr>\n",
       "      <th>2</th>\n",
       "      <td>Arab World</td>\n",
       "      <td>ARB</td>\n",
       "      <td>1970</td>\n",
       "      <td>3.138550e+10</td>\n",
       "      <td>10.38</td>\n",
       "    </tr>\n",
       "    <tr>\n",
       "      <th>3</th>\n",
       "      <td>Arab World</td>\n",
       "      <td>ARB</td>\n",
       "      <td>1971</td>\n",
       "      <td>3.642691e+10</td>\n",
       "      <td>16.06</td>\n",
       "    </tr>\n",
       "    <tr>\n",
       "      <th>4</th>\n",
       "      <td>Arab World</td>\n",
       "      <td>ARB</td>\n",
       "      <td>1972</td>\n",
       "      <td>4.331606e+10</td>\n",
       "      <td>18.91</td>\n",
       "    </tr>\n",
       "  </tbody>\n",
       "</table>\n",
       "</div>"
      ],
      "text/plain": [
       "  Country Name Country Code  Year         Value  GDP_growth\n",
       "0   Arab World          ARB  1968  2.576068e+10        0.00\n",
       "1   Arab World          ARB  1969  2.843420e+10       10.38\n",
       "2   Arab World          ARB  1970  3.138550e+10       10.38\n",
       "3   Arab World          ARB  1971  3.642691e+10       16.06\n",
       "4   Arab World          ARB  1972  4.331606e+10       18.91"
      ]
     },
     "execution_count": 22,
     "metadata": {},
     "output_type": "execute_result"
    }
   ],
   "source": [
    "finallist=[]\n",
    "finaldata=[]\n",
    "for country in df['Country Name'].unique():\n",
    "    df_pr=df[df['Country Name']==country]\n",
    "    gdp=[0]\n",
    "    data=df_pr.values\n",
    "    for i in range(1,len(data)):\n",
    "        gdp_change=round(((data[i][3]-data[i-1][3])/data[i-1][3])*100,2)\n",
    "        gdp.append(gdp_change)\n",
    "    finallist.extend(gdp)\n",
    "    df_pr.assign(GDP=gdp)\n",
    "    finaldata.append(df_pr)\n",
    "df=df.assign(GDP_growth=finallist)\n",
    "df.head()"
   ]
  },
  {
   "cell_type": "code",
   "execution_count": 16,
   "id": "e281fdad-eadb-4f65-bab6-9453511c7532",
   "metadata": {},
   "outputs": [
    {
     "data": {
      "text/plain": [
       "Country Name\n",
       "Cayman Islands              108.380000\n",
       "Equatorial Guinea            22.312453\n",
       "Nauru                        20.650000\n",
       "Iraq                         18.075854\n",
       "Oman                         17.681154\n",
       "                               ...    \n",
       "Barbados                      3.109259\n",
       "San Marino                    2.148333\n",
       "American Samoa                1.937333\n",
       "Northern Mariana Islands      0.338667\n",
       "South Sudan                  -3.166250\n",
       "Name: GDP_growth, Length: 256, dtype: float64"
      ]
     },
     "execution_count": 16,
     "metadata": {},
     "output_type": "execute_result"
    }
   ],
   "source": [
    "df.groupby('Country Name')['GDP_growth'].mean().sort_values(ascending=False)"
   ]
  },
  {
   "cell_type": "code",
   "execution_count": 17,
   "id": "edf08bef-1ac1-43a8-822b-65eb00231284",
   "metadata": {},
   "outputs": [
    {
     "data": {
      "text/html": [
       "<div>\n",
       "<style scoped>\n",
       "    .dataframe tbody tr th:only-of-type {\n",
       "        vertical-align: middle;\n",
       "    }\n",
       "\n",
       "    .dataframe tbody tr th {\n",
       "        vertical-align: top;\n",
       "    }\n",
       "\n",
       "    .dataframe thead th {\n",
       "        text-align: right;\n",
       "    }\n",
       "</style>\n",
       "<table border=\"1\" class=\"dataframe\">\n",
       "  <thead>\n",
       "    <tr style=\"text-align: right;\">\n",
       "      <th></th>\n",
       "      <th>Country Name</th>\n",
       "      <th>Country Code</th>\n",
       "      <th>Year</th>\n",
       "      <th>Value</th>\n",
       "    </tr>\n",
       "  </thead>\n",
       "  <tbody>\n",
       "    <tr>\n",
       "      <th>0</th>\n",
       "      <td>Arab World</td>\n",
       "      <td>ARB</td>\n",
       "      <td>1968</td>\n",
       "      <td>2.576068e+10</td>\n",
       "    </tr>\n",
       "    <tr>\n",
       "      <th>1</th>\n",
       "      <td>Arab World</td>\n",
       "      <td>ARB</td>\n",
       "      <td>1969</td>\n",
       "      <td>2.843420e+10</td>\n",
       "    </tr>\n",
       "    <tr>\n",
       "      <th>2</th>\n",
       "      <td>Arab World</td>\n",
       "      <td>ARB</td>\n",
       "      <td>1970</td>\n",
       "      <td>3.138550e+10</td>\n",
       "    </tr>\n",
       "    <tr>\n",
       "      <th>3</th>\n",
       "      <td>Arab World</td>\n",
       "      <td>ARB</td>\n",
       "      <td>1971</td>\n",
       "      <td>3.642691e+10</td>\n",
       "    </tr>\n",
       "    <tr>\n",
       "      <th>4</th>\n",
       "      <td>Arab World</td>\n",
       "      <td>ARB</td>\n",
       "      <td>1972</td>\n",
       "      <td>4.331606e+10</td>\n",
       "    </tr>\n",
       "  </tbody>\n",
       "</table>\n",
       "</div>"
      ],
      "text/plain": [
       "  Country Name Country Code  Year         Value\n",
       "0   Arab World          ARB  1968  2.576068e+10\n",
       "1   Arab World          ARB  1969  2.843420e+10\n",
       "2   Arab World          ARB  1970  3.138550e+10\n",
       "3   Arab World          ARB  1971  3.642691e+10\n",
       "4   Arab World          ARB  1972  4.331606e+10"
      ]
     },
     "execution_count": 17,
     "metadata": {},
     "output_type": "execute_result"
    }
   ],
   "source": [
    "finaldata[0].head()"
   ]
  },
  {
   "cell_type": "code",
   "execution_count": 18,
   "id": "36850b12-f559-40a4-ac3a-5e0a37a5e65c",
   "metadata": {},
   "outputs": [
    {
     "data": {
      "text/html": [
       "<div>\n",
       "<style scoped>\n",
       "    .dataframe tbody tr th:only-of-type {\n",
       "        vertical-align: middle;\n",
       "    }\n",
       "\n",
       "    .dataframe tbody tr th {\n",
       "        vertical-align: top;\n",
       "    }\n",
       "\n",
       "    .dataframe thead th {\n",
       "        text-align: right;\n",
       "    }\n",
       "</style>\n",
       "<table border=\"1\" class=\"dataframe\">\n",
       "  <thead>\n",
       "    <tr style=\"text-align: right;\">\n",
       "      <th></th>\n",
       "      <th>Country Name</th>\n",
       "      <th>Country Code</th>\n",
       "      <th>Year</th>\n",
       "      <th>Value</th>\n",
       "      <th>GDP_growth</th>\n",
       "    </tr>\n",
       "  </thead>\n",
       "  <tbody>\n",
       "    <tr>\n",
       "      <th>3863</th>\n",
       "      <td>Cayman Islands</td>\n",
       "      <td>CYM</td>\n",
       "      <td>1996</td>\n",
       "      <td>1.012444e+09</td>\n",
       "      <td>0.00</td>\n",
       "    </tr>\n",
       "    <tr>\n",
       "      <th>3864</th>\n",
       "      <td>Cayman Islands</td>\n",
       "      <td>CYM</td>\n",
       "      <td>2006</td>\n",
       "      <td>3.207033e+09</td>\n",
       "      <td>216.76</td>\n",
       "    </tr>\n",
       "  </tbody>\n",
       "</table>\n",
       "</div>"
      ],
      "text/plain": [
       "        Country Name Country Code  Year         Value  GDP_growth\n",
       "3863  Cayman Islands          CYM  1996  1.012444e+09        0.00\n",
       "3864  Cayman Islands          CYM  2006  3.207033e+09      216.76"
      ]
     },
     "execution_count": 18,
     "metadata": {},
     "output_type": "execute_result"
    }
   ],
   "source": [
    "df[df['Country Name']=='Cayman Islands']"
   ]
  },
  {
   "cell_type": "code",
   "execution_count": null,
   "id": "f0d88b96-1d1c-4894-9664-a7501fdd7762",
   "metadata": {},
   "outputs": [],
   "source": [
    "df_pr=df[df['Country Name']=='World']\n",
    "fig=px.line(df_pr,x='Year',y='Value',title=\"World GDP Analysis\")\n",
    "fig"
   ]
  },
  {
   "cell_type": "code",
   "execution_count": null,
   "id": "bc9a556e-35b8-4540-9422-819ffc607a45",
   "metadata": {},
   "outputs": [],
   "source": [
    "pyo.plot(fig,filename='World.html')"
   ]
  },
  {
   "cell_type": "code",
   "execution_count": null,
   "id": "ee762d9e-19fb-48c5-9454-15c1c5fbb2b8",
   "metadata": {},
   "outputs": [],
   "source": [
    "df_pr=df[df['Country Name']=='India']\n",
    "px.line(df_pr,x='Year',y='Value',title=\"India GDP Analysis\",range_y=[0,80000000000000])"
   ]
  },
  {
   "cell_type": "code",
   "execution_count": null,
   "id": "85bd91d1-584e-411c-b668-0f460cd3a593",
   "metadata": {},
   "outputs": [],
   "source": [
    "!mkdir GDP_graphs"
   ]
  },
  {
   "cell_type": "code",
   "execution_count": null,
   "id": "6dac0ad3-1bdc-40e0-96f4-33ff5673b011",
   "metadata": {},
   "outputs": [],
   "source": [
    "for i in df['Country Name'].unique():\n",
    "    df_pr=df[df['Country Name']==i]\n",
    "    pyo.plot(px.line(df_pr,x='Year',y='Value',title=i+' GDP Analysis'),filename='GDP_graphs/'+i+'.html',auto_open=False)"
   ]
  },
  {
   "cell_type": "code",
   "execution_count": null,
   "id": "bf86e6e7-54e8-4f5b-8922-dc793181548e",
   "metadata": {},
   "outputs": [],
   "source": [
    "os.mkdir('GDP_graphs_individual')"
   ]
  },
  {
   "cell_type": "code",
   "execution_count": null,
   "id": "b5596272-f7be-4b60-ac5d-61ee78cf4e9d",
   "metadata": {},
   "outputs": [],
   "source": [
    "\n",
    "for i in df['Country Name'].unique():\n",
    "    df_pr=df[df['Country Name']==i]\n",
    "    pyo.plot(px.line(df_pr,x='Year',y='Value',title=i+' GDP Analysis',range_y=[0,80000000000000]),filename='GDP_graphs_individual/'+i+'.html',auto_open=False)"
   ]
  },
  {
   "cell_type": "code",
   "execution_count": 6,
   "id": "a4eb69d5-e579-4a0d-9263-687bd6796fc5",
   "metadata": {},
   "outputs": [
    {
     "data": {
      "text/plain": [
       "256"
      ]
     },
     "execution_count": 6,
     "metadata": {},
     "output_type": "execute_result"
    }
   ],
   "source": [
    "len(os.listdir('GDP_graphs'))"
   ]
  },
  {
   "cell_type": "code",
   "execution_count": null,
   "id": "f586ebc0-f311-4b4b-b9cf-afefe8189b03",
   "metadata": {},
   "outputs": [],
   "source": [
    "fig=px.line(df,x='Year',y='Value',title='Countries',color='Country Name')\n",
    "pyo.plot(fig,filename='Countries GDP.html')"
   ]
  },
  {
   "cell_type": "code",
   "execution_count": null,
   "id": "a19c3a9a-753a-4bab-b830-e3a6fed33d83",
   "metadata": {},
   "outputs": [],
   "source": [
    "c1=df[df['Country Name']=='India']\n",
    "c2=df[df['Country Name']=='World']\n",
    "df_pr=pd.concat([c1,c2],axis=0)\n",
    "fig=px.line(df_pr,x='Year',y='Value',title='Comparison b/w India and China',color='Country Name')\n",
    "pyo.plot(fig,filename='IND and CHN.html')"
   ]
  },
  {
   "cell_type": "code",
   "execution_count": 20,
   "id": "58098a59-da9a-4e20-82d1-744ed1f3b640",
   "metadata": {},
   "outputs": [],
   "source": [
    "lst=['IND','ITA', 'USA', 'CHN']\n",
    "dfs=[]\n",
    "def compare(lst,isOpen):\n",
    "    for i in lst:\n",
    "        dfs.append(df[df['Country Code']==i])\n",
    "        df_pr=pd.concat(dfs,axis=0)\n",
    "    fig=px.line(df_pr,x='Year',y='Value',title='Comparison '+'|'.join(lst),color='Country Name')\n",
    "    pyo.plot(fig,filename='-'.join(lst)+'.html',auto_open=isOpen)\n",
    "compare(['IND','WLD'],False)"
   ]
  },
  {
   "cell_type": "code",
   "execution_count": 23,
   "id": "182b8da1-557d-4994-87a0-635de5c4018a",
   "metadata": {},
   "outputs": [
    {
     "data": {
      "text/html": [
       "<div>\n",
       "<style scoped>\n",
       "    .dataframe tbody tr th:only-of-type {\n",
       "        vertical-align: middle;\n",
       "    }\n",
       "\n",
       "    .dataframe tbody tr th {\n",
       "        vertical-align: top;\n",
       "    }\n",
       "\n",
       "    .dataframe thead th {\n",
       "        text-align: right;\n",
       "    }\n",
       "</style>\n",
       "<table border=\"1\" class=\"dataframe\">\n",
       "  <thead>\n",
       "    <tr style=\"text-align: right;\">\n",
       "      <th></th>\n",
       "      <th>Country Name</th>\n",
       "      <th>Country Code</th>\n",
       "      <th>Year</th>\n",
       "      <th>Value</th>\n",
       "      <th>GDP_growth</th>\n",
       "    </tr>\n",
       "  </thead>\n",
       "  <tbody>\n",
       "    <tr>\n",
       "      <th>0</th>\n",
       "      <td>Arab World</td>\n",
       "      <td>ARB</td>\n",
       "      <td>1968</td>\n",
       "      <td>2.576068e+10</td>\n",
       "      <td>0.00</td>\n",
       "    </tr>\n",
       "    <tr>\n",
       "      <th>1</th>\n",
       "      <td>Arab World</td>\n",
       "      <td>ARB</td>\n",
       "      <td>1969</td>\n",
       "      <td>2.843420e+10</td>\n",
       "      <td>10.38</td>\n",
       "    </tr>\n",
       "    <tr>\n",
       "      <th>2</th>\n",
       "      <td>Arab World</td>\n",
       "      <td>ARB</td>\n",
       "      <td>1970</td>\n",
       "      <td>3.138550e+10</td>\n",
       "      <td>10.38</td>\n",
       "    </tr>\n",
       "    <tr>\n",
       "      <th>3</th>\n",
       "      <td>Arab World</td>\n",
       "      <td>ARB</td>\n",
       "      <td>1971</td>\n",
       "      <td>3.642691e+10</td>\n",
       "      <td>16.06</td>\n",
       "    </tr>\n",
       "    <tr>\n",
       "      <th>4</th>\n",
       "      <td>Arab World</td>\n",
       "      <td>ARB</td>\n",
       "      <td>1972</td>\n",
       "      <td>4.331606e+10</td>\n",
       "      <td>18.91</td>\n",
       "    </tr>\n",
       "  </tbody>\n",
       "</table>\n",
       "</div>"
      ],
      "text/plain": [
       "  Country Name Country Code  Year         Value  GDP_growth\n",
       "0   Arab World          ARB  1968  2.576068e+10        0.00\n",
       "1   Arab World          ARB  1969  2.843420e+10       10.38\n",
       "2   Arab World          ARB  1970  3.138550e+10       10.38\n",
       "3   Arab World          ARB  1971  3.642691e+10       16.06\n",
       "4   Arab World          ARB  1972  4.331606e+10       18.91"
      ]
     },
     "execution_count": 23,
     "metadata": {},
     "output_type": "execute_result"
    }
   ],
   "source": [
    "df.head()"
   ]
  },
  {
   "cell_type": "code",
   "execution_count": 24,
   "id": "2b89e0d2-acc3-45a3-ab3b-70b1eb3dbfea",
   "metadata": {},
   "outputs": [
    {
     "data": {
      "text/plain": [
       "'GDP growth for all countries.html'"
      ]
     },
     "execution_count": 24,
     "metadata": {},
     "output_type": "execute_result"
    }
   ],
   "source": [
    "fig=px.line(df,x='Year',y='GDP_growth',title='GDP Growth ',color='Country Name')\n",
    "pyo.plot(fig,filename='GDP growth for all countries.html')"
   ]
  },
  {
   "cell_type": "code",
   "execution_count": 29,
   "id": "49c73d4c-676d-4d2a-b136-995242790410",
   "metadata": {},
   "outputs": [
    {
     "data": {
      "text/plain": [
       "'GDP growth since 1960.html'"
      ]
     },
     "execution_count": 29,
     "metadata": {},
     "output_type": "execute_result"
    }
   ],
   "source": [
    "dfs=[]\n",
    "for country in df['Country Name'].unique():\n",
    "    df_pr=df[df['Country Name']==country]\n",
    "    if len(df_pr)==57:\n",
    "        dfs.append(df_pr)\n",
    "df_pr=pd.concat(dfs,axis=0)\n",
    "fig=px.line(df,x='Year',y='GDP_growth',title='GDP Growth ',color='Country Name')\n",
    "pyo.plot(fig,filename='GDP growth since 1960.html')"
   ]
  },
  {
   "cell_type": "code",
   "execution_count": 28,
   "id": "d9b4e211-bfe0-41b0-8d44-6049f99b5e8a",
   "metadata": {},
   "outputs": [
    {
     "data": {
      "text/html": [
       "<div>\n",
       "<style scoped>\n",
       "    .dataframe tbody tr th:only-of-type {\n",
       "        vertical-align: middle;\n",
       "    }\n",
       "\n",
       "    .dataframe tbody tr th {\n",
       "        vertical-align: top;\n",
       "    }\n",
       "\n",
       "    .dataframe thead th {\n",
       "        text-align: right;\n",
       "    }\n",
       "</style>\n",
       "<table border=\"1\" class=\"dataframe\">\n",
       "  <thead>\n",
       "    <tr style=\"text-align: right;\">\n",
       "      <th></th>\n",
       "      <th>Country Name</th>\n",
       "      <th>Country Code</th>\n",
       "      <th>Year</th>\n",
       "      <th>Value</th>\n",
       "      <th>GDP_growth</th>\n",
       "    </tr>\n",
       "  </thead>\n",
       "  <tbody>\n",
       "    <tr>\n",
       "      <th>49</th>\n",
       "      <td>Caribbean small states</td>\n",
       "      <td>CSS</td>\n",
       "      <td>1960</td>\n",
       "      <td>2.004785e+09</td>\n",
       "      <td>0.00</td>\n",
       "    </tr>\n",
       "    <tr>\n",
       "      <th>50</th>\n",
       "      <td>Caribbean small states</td>\n",
       "      <td>CSS</td>\n",
       "      <td>1961</td>\n",
       "      <td>2.169733e+09</td>\n",
       "      <td>8.23</td>\n",
       "    </tr>\n",
       "    <tr>\n",
       "      <th>51</th>\n",
       "      <td>Caribbean small states</td>\n",
       "      <td>CSS</td>\n",
       "      <td>1962</td>\n",
       "      <td>2.289495e+09</td>\n",
       "      <td>5.52</td>\n",
       "    </tr>\n",
       "    <tr>\n",
       "      <th>52</th>\n",
       "      <td>Caribbean small states</td>\n",
       "      <td>CSS</td>\n",
       "      <td>1963</td>\n",
       "      <td>2.431592e+09</td>\n",
       "      <td>6.21</td>\n",
       "    </tr>\n",
       "    <tr>\n",
       "      <th>53</th>\n",
       "      <td>Caribbean small states</td>\n",
       "      <td>CSS</td>\n",
       "      <td>1964</td>\n",
       "      <td>2.626896e+09</td>\n",
       "      <td>8.03</td>\n",
       "    </tr>\n",
       "    <tr>\n",
       "      <th>...</th>\n",
       "      <td>...</td>\n",
       "      <td>...</td>\n",
       "      <td>...</td>\n",
       "      <td>...</td>\n",
       "      <td>...</td>\n",
       "    </tr>\n",
       "    <tr>\n",
       "      <th>11502</th>\n",
       "      <td>Zimbabwe</td>\n",
       "      <td>ZWE</td>\n",
       "      <td>2012</td>\n",
       "      <td>1.424249e+10</td>\n",
       "      <td>17.72</td>\n",
       "    </tr>\n",
       "    <tr>\n",
       "      <th>11503</th>\n",
       "      <td>Zimbabwe</td>\n",
       "      <td>ZWE</td>\n",
       "      <td>2013</td>\n",
       "      <td>1.545177e+10</td>\n",
       "      <td>8.49</td>\n",
       "    </tr>\n",
       "    <tr>\n",
       "      <th>11504</th>\n",
       "      <td>Zimbabwe</td>\n",
       "      <td>ZWE</td>\n",
       "      <td>2014</td>\n",
       "      <td>1.589105e+10</td>\n",
       "      <td>2.84</td>\n",
       "    </tr>\n",
       "    <tr>\n",
       "      <th>11505</th>\n",
       "      <td>Zimbabwe</td>\n",
       "      <td>ZWE</td>\n",
       "      <td>2015</td>\n",
       "      <td>1.630467e+10</td>\n",
       "      <td>2.60</td>\n",
       "    </tr>\n",
       "    <tr>\n",
       "      <th>11506</th>\n",
       "      <td>Zimbabwe</td>\n",
       "      <td>ZWE</td>\n",
       "      <td>2016</td>\n",
       "      <td>1.661996e+10</td>\n",
       "      <td>1.93</td>\n",
       "    </tr>\n",
       "  </tbody>\n",
       "</table>\n",
       "<p>6840 rows × 5 columns</p>\n",
       "</div>"
      ],
      "text/plain": [
       "                 Country Name Country Code  Year         Value  GDP_growth\n",
       "49     Caribbean small states          CSS  1960  2.004785e+09        0.00\n",
       "50     Caribbean small states          CSS  1961  2.169733e+09        8.23\n",
       "51     Caribbean small states          CSS  1962  2.289495e+09        5.52\n",
       "52     Caribbean small states          CSS  1963  2.431592e+09        6.21\n",
       "53     Caribbean small states          CSS  1964  2.626896e+09        8.03\n",
       "...                       ...          ...   ...           ...         ...\n",
       "11502                Zimbabwe          ZWE  2012  1.424249e+10       17.72\n",
       "11503                Zimbabwe          ZWE  2013  1.545177e+10        8.49\n",
       "11504                Zimbabwe          ZWE  2014  1.589105e+10        2.84\n",
       "11505                Zimbabwe          ZWE  2015  1.630467e+10        2.60\n",
       "11506                Zimbabwe          ZWE  2016  1.661996e+10        1.93\n",
       "\n",
       "[6840 rows x 5 columns]"
      ]
     },
     "execution_count": 28,
     "metadata": {},
     "output_type": "execute_result"
    }
   ],
   "source": [
    "df_pr"
   ]
  },
  {
   "cell_type": "code",
   "execution_count": null,
   "id": "4ead974f-ef8c-4c29-b86f-0c0aa7f1c124",
   "metadata": {},
   "outputs": [],
   "source": []
  }
 ],
 "metadata": {
  "kernelspec": {
   "display_name": "Python 3 (ipykernel)",
   "language": "python",
   "name": "python3"
  },
  "language_info": {
   "codemirror_mode": {
    "name": "ipython",
    "version": 3
   },
   "file_extension": ".py",
   "mimetype": "text/x-python",
   "name": "python",
   "nbconvert_exporter": "python",
   "pygments_lexer": "ipython3",
   "version": "3.11.7"
  }
 },
 "nbformat": 4,
 "nbformat_minor": 5
}
